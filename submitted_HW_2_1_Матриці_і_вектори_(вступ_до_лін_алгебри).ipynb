{
 "cells": [
  {
   "cell_type": "markdown",
   "metadata": {
    "colab_type": "text",
    "id": "view-in-github"
   },
   "source": [
    "<a href=\"https://colab.research.google.com/github/andrewluzan/first_repository/blob/main/submitted_HW_2_1_%D0%9C%D0%B0%D1%82%D1%80%D0%B8%D1%86%D1%96_%D1%96_%D0%B2%D0%B5%D0%BA%D1%82%D0%BE%D1%80%D0%B8_(%D0%B2%D1%81%D1%82%D1%83%D0%BF_%D0%B4%D0%BE_%D0%BB%D1%96%D0%BD_%D0%B0%D0%BB%D0%B3%D0%B5%D0%B1%D1%80%D0%B8).ipynb\" target=\"_parent\"><img src=\"https://colab.research.google.com/assets/colab-badge.svg\" alt=\"Open In Colab\"/></a>"
   ]
  },
  {
   "cell_type": "markdown",
   "metadata": {
    "id": "efug1V4CM0lT"
   },
   "source": [
    "### Завдання 1: Створення матриць та векторів\n",
    "1. Створіть `numpy` вектор `vector` розмірністю 10 з випадковими дійсними значеннями в діапазоні від 0 до 1. Можна скористатись двома альтернативними варіантами:\n",
    "  1. Генерація випадкових чисел з модулем [`random.uniform`](https://docs.python.org/3/library/random.html).\n",
    "  2. Створення вектора з допомогою метода `numpy` [np.random.rand](https://numpy.org/doc/stable/reference/random/generated/numpy.random.rand.html)\n",
    "\n",
    "2. Створіть матрицю `matrix` типу `numpy.array` розмірності 3x3 з наступними значеннями\n",
    "\n",
    "  $$\n",
    "  matrix = \\begin{bmatrix}\n",
    "  11 & 14 & 17 \\\\\n",
    "  20 & 23 & 26 \\\\\n",
    "  29 & 32 & 35\n",
    "  \\end{bmatrix}\n",
    "  $$\n",
    "\n",
    "  будь-яким відомими Вам способом.\n",
    "\n",
    "Виведіть на екран вектор і матрицю, а також їх розміри.\n"
   ]
  },
  {
   "cell_type": "code",
   "execution_count": 1,
   "metadata": {
    "id": "jxA_lG2_VIMe"
   },
   "outputs": [],
   "source": [
    "import numpy as np"
   ]
  },
  {
   "cell_type": "code",
   "execution_count": 2,
   "metadata": {
    "colab": {
     "base_uri": "https://localhost:8080/"
    },
    "id": "bAwYQta8eOKo",
    "outputId": "d26a567a-1cfc-4915-c246-45c2d44038dd"
   },
   "outputs": [
    {
     "name": "stdout",
     "output_type": "stream",
     "text": [
      "[0.74546334 0.78494478 0.30328161 0.14876933 0.60464296 0.46510374\n",
      " 0.36033744 0.68391909 0.30883926 0.86498168]\n",
      "Its shape: (10,)\n"
     ]
    }
   ],
   "source": [
    "vector = np.random.rand(10)\n",
    "print(vector)\n",
    "print('Its shape:',vector.shape)"
   ]
  },
  {
   "cell_type": "code",
   "execution_count": 3,
   "metadata": {
    "colab": {
     "base_uri": "https://localhost:8080/"
    },
    "id": "bhxujbyPfYZn",
    "outputId": "c173fbe5-11b6-45d5-a511-fb5fc43a7251"
   },
   "outputs": [
    {
     "name": "stdout",
     "output_type": "stream",
     "text": [
      "Matrix A:\n",
      "[[11 14 17]\n",
      " [20 23 26]\n",
      " [29 32 35]]\n",
      "Its shape: (3, 3)\n"
     ]
    }
   ],
   "source": [
    "# Creation of matrix\n",
    "A = np.array([[11, 14, 17],\n",
    "              [20, 23, 26],\n",
    "              [29, 32, 35]])\n",
    "\n",
    "print(\"Matrix A:\")\n",
    "print(A)\n",
    "print('Its shape:', A.shape)"
   ]
  },
  {
   "cell_type": "markdown",
   "metadata": {
    "id": "TSJ1P4OuOVe2"
   },
   "source": [
    "\n",
    "### Завдання 2: Операції над векторами та матрицями\n",
    "Виконайте кожну з зазначених операцій над зазначеними оʼєктами і виведіть результат на екран:\n",
    "1. Додайте до кожного значення вектора `vector` число 10 і округліть кожне значення до 2 знаків після коми без використання циклів.\n",
    "2. Помножте кожен елемент матриці з першого завдання на 2 без використання циклів.\n",
    "3. Створіть новий вектор, який містить квадрат кожного `vector` без циклів.\n"
   ]
  },
  {
   "cell_type": "code",
   "execution_count": 4,
   "metadata": {
    "colab": {
     "base_uri": "https://localhost:8080/"
    },
    "id": "nAAojtyUVJXN",
    "outputId": "5840edc3-3472-4716-f40c-ea7ea2968df3"
   },
   "outputs": [
    {
     "name": "stdout",
     "output_type": "stream",
     "text": [
      "[10.75 10.78 10.3  10.15 10.6  10.47 10.36 10.68 10.31 10.86]\n"
     ]
    }
   ],
   "source": [
    "vector = vector + 10\n",
    "rounded_vector = np.round(vector, 2)\n",
    "\n",
    "print(rounded_vector)"
   ]
  },
  {
   "cell_type": "code",
   "execution_count": 5,
   "metadata": {
    "colab": {
     "base_uri": "https://localhost:8080/"
    },
    "id": "g5oYSdvNglpm",
    "outputId": "cb1895ed-fd12-4b50-84ca-ca9d87c5fbb0"
   },
   "outputs": [
    {
     "name": "stdout",
     "output_type": "stream",
     "text": [
      "Matrix A multiplied by 2:\n",
      "[[22 28 34]\n",
      " [40 46 52]\n",
      " [58 64 70]]\n"
     ]
    }
   ],
   "source": [
    "A = A * 2\n",
    "\n",
    "print(\"Matrix A multiplied by 2:\")\n",
    "print(A)"
   ]
  },
  {
   "cell_type": "code",
   "execution_count": 6,
   "metadata": {
    "colab": {
     "base_uri": "https://localhost:8080/"
    },
    "id": "XlJo4PVDg42f",
    "outputId": "822f31a4-2859-4c54-844a-b4e84f1ea42d"
   },
   "outputs": [
    {
     "name": "stdout",
     "output_type": "stream",
     "text": [
      "[115.46498241 116.31503398 106.15761185 102.99751898 112.45845241\n",
      " 109.5183962  107.33659178 114.14612721 106.2721669  118.04782685]\n"
     ]
    }
   ],
   "source": [
    "vector_square = vector * vector\n",
    "\n",
    "print(vector_square)"
   ]
  },
  {
   "cell_type": "markdown",
   "metadata": {
    "id": "u6RvWVfhPy-k"
   },
   "source": [
    "\n",
    "### Завдання 3: Множення матриць\n",
    "1. Задані дві матриці `A` і `B`розмірностями 3x2 та 2х3. Виконайте їхнє множення, щоб отримати матрицю 2x2. Виведіть результуючу матрицю `result_matrix` на екран.\n",
    "\n",
    "2. Заданий вектор `C` розмірністю 2х1. Подумайте спочатку, яку розмірність Ви отрмаєте, коли домножите `result_matrix` на вектор `C` і який результат буде. А потім виконайте множення і виведіть результат на екран.\n",
    "\n",
    "3. Задана матриця `D` розмірністю 2х2. Подумайте спочатку, яку розмірність Ви отрмаєте, коли домножите `result_matrix` на матрицю `D` і який результат буде. А потім виконайте множення і виведіть результат на екран."
   ]
  },
  {
   "cell_type": "code",
   "execution_count": 7,
   "metadata": {
    "colab": {
     "base_uri": "https://localhost:8080/",
     "height": 173
    },
    "id": "RwXfPzlbSJ44",
    "outputId": "e68168e1-5147-4366-d6d9-04285ad35eda"
   },
   "outputs": [
    {
     "data": {
      "text/plain": [
       "array([[0.18, 0.53],\n",
       "       [0.75, 0.47],\n",
       "       [0.35, 0.21]])"
      ]
     },
     "metadata": {},
     "output_type": "display_data"
    },
    {
     "data": {
      "text/plain": [
       "array([[0.17, 0.58, 0.75],\n",
       "       [0.38, 0.11, 0.15]])"
      ]
     },
     "metadata": {},
     "output_type": "display_data"
    },
    {
     "data": {
      "text/plain": [
       "array([[0],\n",
       "       [1]])"
      ]
     },
     "metadata": {},
     "output_type": "display_data"
    },
    {
     "data": {
      "text/plain": [
       "array([[0, 1],\n",
       "       [1, 0]])"
      ]
     },
     "metadata": {},
     "output_type": "display_data"
    }
   ],
   "source": [
    "A = np.array(\n",
    "    [[0.18, 0.53],\n",
    "     [0.75, 0.47],\n",
    "     [0.35, 0.21]])\n",
    "\n",
    "B = np.array(\n",
    "    [[0.17, 0.58, 0.75],\n",
    "     [0.38, 0.11, 0.15]])\n",
    "\n",
    "C = np.array([[0], [1]])\n",
    "\n",
    "D = np.array([[0,1], [1,0]])\n",
    "\n",
    "display(A, B, C, D)"
   ]
  },
  {
   "cell_type": "code",
   "execution_count": 12,
   "metadata": {
    "colab": {
     "base_uri": "https://localhost:8080/",
     "height": 69
    },
    "id": "z7-boTbhVKkj",
    "outputId": "a31a4f6d-ce2f-421f-c2af-41ae8f7fbe11"
   },
   "outputs": [
    {
     "data": {
      "text/plain": [
       "array([[0.7281, 0.5202],\n",
       "       [0.2034, 0.2846]])"
      ]
     },
     "metadata": {},
     "output_type": "display_data"
    },
    {
     "data": {
      "text/plain": [
       "array([[0.5202],\n",
       "       [0.2846]])"
      ]
     },
     "metadata": {},
     "output_type": "display_data"
    },
    {
     "data": {
      "text/plain": [
       "array([[0.5202, 0.7281],\n",
       "       [0.2846, 0.2034]])"
      ]
     },
     "metadata": {},
     "output_type": "display_data"
    }
   ],
   "source": [
    "result_matrix = np.dot(B, A)\n",
    "display(result_matrix)\n",
    "result_matrix_2 = np.dot(result_matrix,C)\n",
    "display(result_matrix_2)\n",
    "result_matrix_3 = np.dot(result_matrix,D)\n",
    "display(result_matrix_3)"
   ]
  },
  {
   "cell_type": "markdown",
   "metadata": {
    "id": "wohp0_cxSGpl"
   },
   "source": [
    "\n",
    "### Завдання 4: Транспонування матриць\n",
    "1. Транспонуйте `result_matrix`.\n",
    "2. Зробіть транспонування вектора `vector` і виведіть форму нової структури. Чи бачите ви зміну?\n",
    "3. Використайте операцію `numpy.expand_dims` над вектором `vector` з аргументом axis=1. Запишіть отриманий результат в змінну `column_vector` і виведіть на екран. Порівняйте з `vector`.\n",
    "4. Зробіть транспонування `column_vector`, виведіть результат на екран разом з розмірностями отриманої структури.\n",
    "\n",
    "\n"
   ]
  },
  {
   "cell_type": "code",
   "execution_count": 27,
   "metadata": {
    "colab": {
     "base_uri": "https://localhost:8080/",
     "height": 69
    },
    "id": "4hFcq1baVLii",
    "outputId": "0782b144-22d7-448c-d08e-68c7da8d7aa3"
   },
   "outputs": [
    {
     "data": {
      "text/plain": [
       "array([[0.232 , 0.3061, 0.1393],\n",
       "       [0.1627, 0.4867, 0.2261],\n",
       "       [0.2145, 0.633 , 0.294 ]])"
      ]
     },
     "metadata": {},
     "output_type": "display_data"
    }
   ],
   "source": [
    "#1\n",
    "result_matrix_T = result_matrix.T\n",
    "display(result_matrix_T)"
   ]
  },
  {
   "cell_type": "code",
   "execution_count": 38,
   "metadata": {
    "colab": {
     "base_uri": "https://localhost:8080/",
     "height": 104
    },
    "id": "tr5johQOl8tD",
    "outputId": "d05ca3f5-89c2-4c3a-8bbc-e4d083ca863d"
   },
   "outputs": [
    {
     "data": {
      "text/plain": [
       "array([20.95057778, 20.74477519, 20.01426506, 20.69546993, 20.08305906,\n",
       "       20.21646313, 20.89164204, 20.02666098, 20.65663843, 20.87902248])"
      ]
     },
     "metadata": {},
     "output_type": "display_data"
    },
    {
     "data": {
      "text/plain": [
       "array([20.95057778, 20.74477519, 20.01426506, 20.69546993, 20.08305906,\n",
       "       20.21646313, 20.89164204, 20.02666098, 20.65663843, 20.87902248])"
      ]
     },
     "metadata": {},
     "output_type": "display_data"
    },
    {
     "name": "stdout",
     "output_type": "stream",
     "text": [
      "There is no difference between vector and vector_T\n"
     ]
    }
   ],
   "source": [
    "#2\n",
    "vector_T = vector.T\n",
    "display(vector)\n",
    "display(vector_T)\n",
    "print('There is no difference between vector and vector_T')"
   ]
  },
  {
   "cell_type": "code",
   "execution_count": 51,
   "metadata": {
    "colab": {
     "base_uri": "https://localhost:8080/"
    },
    "id": "XziOK70DnNaF",
    "outputId": "27d63cd0-7ed3-4537-9843-b9d72029b418"
   },
   "outputs": [
    {
     "name": "stdout",
     "output_type": "stream",
     "text": [
      "[[20.95057778]\n",
      " [20.74477519]\n",
      " [20.01426506]\n",
      " [20.69546993]\n",
      " [20.08305906]\n",
      " [20.21646313]\n",
      " [20.89164204]\n",
      " [20.02666098]\n",
      " [20.65663843]\n",
      " [20.87902248]]\n",
      "[20.95057778 20.74477519 20.01426506 20.69546993 20.08305906 20.21646313\n",
      " 20.89164204 20.02666098 20.65663843 20.87902248]\n",
      "column_vector is transported to its oringinal vector\n"
     ]
    }
   ],
   "source": [
    "#3\n",
    "column_vector = np.expand_dims(vector, axis=1)\n",
    "print(column_vector)\n",
    "print(vector)\n",
    "\n",
    "print('column_vector is transported to its oringinal vector')"
   ]
  },
  {
   "cell_type": "code",
   "execution_count": 50,
   "metadata": {
    "colab": {
     "base_uri": "https://localhost:8080/"
    },
    "id": "4cWUrs6QpmPp",
    "outputId": "e75f8729-1bcf-4ffe-eb74-0968aa64d670"
   },
   "outputs": [
    {
     "name": "stdout",
     "output_type": "stream",
     "text": [
      "[[20.95057778 20.74477519 20.01426506 20.69546993 20.08305906 20.21646313\n",
      "  20.89164204 20.02666098 20.65663843 20.87902248]]\n",
      "column_vector_T shape: (1, 10)\n",
      "column_vector_T shape: (10, 1)\n"
     ]
    }
   ],
   "source": [
    "#4\n",
    "column_vector_T = column_vector.T\n",
    "print(column_vector_T)\n",
    "\n",
    "print('column_vector_T shape:',column_vector_T.shape)\n",
    "print('column_vector shape:',column_vector.shape)"
   ]
  }
 ],
 "metadata": {
  "colab": {
   "include_colab_link": true,
   "provenance": []
  },
  "kernelspec": {
   "display_name": "Python 3 (ipykernel)",
   "language": "python",
   "name": "python3"
  },
  "language_info": {
   "codemirror_mode": {
    "name": "ipython",
    "version": 3
   },
   "file_extension": ".py",
   "mimetype": "text/x-python",
   "name": "python",
   "nbconvert_exporter": "python",
   "pygments_lexer": "ipython3",
   "version": "3.11.6"
  }
 },
 "nbformat": 4,
 "nbformat_minor": 4
}
