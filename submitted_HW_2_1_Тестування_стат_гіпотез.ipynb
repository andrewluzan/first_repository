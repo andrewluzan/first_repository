{
 "nbformat": 4,
 "nbformat_minor": 0,
 "metadata": {
  "colab": {
   "provenance": []
  },
  "kernelspec": {
   "name": "python3",
   "display_name": "Python 3 (ipykernel)",
   "language": "python"
  },
  "language_info": {
   "name": "python"
  }
 },
 "cells": [
  {
   "cell_type": "markdown",
   "source": [
    "В цьому ДЗ потренуємось виконувати Z-тести для тестування гіпотез в різних задачах. Для коректної імплементації та інтерпретації тестів рекоемндую переглянути спершу документацію:\n",
    "\n",
    "https://www.statsmodels.org/dev/generated/statsmodels.stats.weightstats.ztest.html\n",
    "\n",
    "### Завдання 1: Z-тест для однієї вибірки\n",
    "\n",
    "**Мета**: Перевірити, чи середнє значення вибірки відрізняється від гіпотетичного середнього.\n",
    "\n",
    "**Припущення**: Середній ріст студентів університету вважається 170 см. Ми хочемо перевірити, чи середній ріст випадкової вибірки студентів істотно більший. Вибірка задана в змінній `heights`.\n",
    "\n",
    "Для виконання завдання імпортуйте метод для проведення `ztest`, виконайте Z-тест з Python, виведіть p-value і зробіть заключення, чи справдилось припущення про середній зріст студентів на рівні значущості 0.05?\n",
    "\n",
    "Використовуємо тут Z-тест, оскільки вибірка достатньо велика (більше 30 екземплярів) і можемо вважати, що її стандартне відхилення близьке до ст. відхилення генеральної сукупності, а значить - відоме."
   ],
   "metadata": {
    "id": "ID3uSQHkQJ2J"
   }
  },
  {
   "metadata": {
    "ExecuteTime": {
     "end_time": "2024-12-28T21:53:56.833196Z",
     "start_time": "2024-12-28T21:53:55.804702Z"
    }
   },
   "cell_type": "code",
   "source": [
    "import numpy as np\n",
    "from statsmodels.stats.weightstats import ztest\n",
    "import matplotlib.pyplot as plt"
   ],
   "outputs": [],
   "execution_count": 3
  },
  {
   "metadata": {
    "ExecuteTime": {
     "end_time": "2024-12-25T18:52:34.591085Z",
     "start_time": "2024-12-25T18:52:34.584404Z"
    }
   },
   "cell_type": "code",
   "source": [
    "# Let's declare the heights list\n",
    "heights = [174, 171, 175, 179, 170, 170, 179, 175, 169, 174, 169, 169, 173, 162, 163, 169, 166,\n",
    "           173, 167, 164, 179, 170, 172, 164, 169, 175, 169, 174, 169, 169, 173, 162, 177]"
   ],
   "outputs": [],
   "execution_count": 52
  },
  {
   "metadata": {
    "ExecuteTime": {
     "end_time": "2024-12-25T18:52:45.817794Z",
     "start_time": "2024-12-25T18:52:45.806091Z"
    }
   },
   "cell_type": "code",
   "source": [
    "# Checking the number of items to ensure that we can use the Z-test\n",
    "len (heights)"
   ],
   "outputs": [
    {
     "data": {
      "text/plain": [
       "33"
      ]
     },
     "execution_count": 53,
     "metadata": {},
     "output_type": "execute_result"
    }
   ],
   "execution_count": 53
  },
  {
   "metadata": {
    "ExecuteTime": {
     "end_time": "2024-12-23T21:42:25.671415Z",
     "start_time": "2024-12-23T21:42:25.666350Z"
    }
   },
   "cell_type": "code",
   "source": [
    "# Our expectation about the average student's height\n",
    "mean_height = 170"
   ],
   "outputs": [],
   "execution_count": 13
  },
  {
   "cell_type": "code",
   "source": [
    "# Let's use the Z-test to find the statistical difference\n",
    "z_stat, p_value = ztest(heights, value=mean_height, alternative='larger')\n",
    "print(f\"Z-Score: {z_stat:.4f}\")\n",
    "print(f\"P-value: {p_value:.4f}\")\n",
    "\n",
    "if p_value < 0.05:\n",
    "    print(\"\\nWe reject the null hypothesis. The average height is significantly greater than 170 cm.\")\n",
    "else:\n",
    "    print(\"\\nWe fail to reject the null hypothesis. There is not enough evidence to say the average height is greater than 170 cm.\")"
   ],
   "metadata": {
    "id": "TUYNSCDzRE7N",
    "ExecuteTime": {
     "end_time": "2024-12-25T11:13:50.896305Z",
     "start_time": "2024-12-25T11:13:50.787334Z"
    }
   },
   "outputs": [
    {
     "name": "stdout",
     "output_type": "stream",
     "text": [
      "Z-Score: 0.8482\n",
      "P-value: 0.1982\n",
      "\n",
      "We fail to reject the null hypothesis. There is not enough evidence to say the average height is greater than 170 cm.\n"
     ]
    }
   ],
   "execution_count": 66
  },
  {
   "metadata": {},
   "cell_type": "markdown",
   "source": [
    "### Завдання 2: Z-тест для двох незалежних вибірок\n",
    "\n",
    "**Завдання 2.1.**\n",
    "\n",
    "**Мета**: Перевірити, чи існує статистична різниця між середніми оцінками двох груп студентів.\n",
    "\n",
    "**Припущення**: Група A отримала новий навчальний курс, а група B продовжувала зі стандартним курсом. Ми перевіряємо, чи є новий курс ефективнішим.\n",
    "\n",
    "Виконайте Z-тест з Python, виведіть p-value і зробіть заключення, чи справдилось припущення щодо студентів на рівні значущості 0.05?"
   ]
  },
  {
   "cell_type": "code",
   "source": [
    "# Let's declare the scores for groups A and B\n",
    "group_a_scores = [78.55, 72.25, 79.88, 75.  , 76.54, 74.99, 87.26, 77.93, 72.71,\n",
    "       82.11, 71.9 , 79.04, 68.2 , 71.36, 78.98, 81.69, 78.86, 77.42,\n",
    "       76.49, 70.61, 74.4 , 75.7 , 83.29, 79.72, 69.18, 79.62, 76.07,\n",
    "       74.62, 81.06, 83.15, 82.66, 73.8 , 76.45, 79.66, 82.88, 75.6 ,\n",
    "       77.07, 72.47, 72.02, 82.06]\n",
    "\n",
    "group_b_scores = [81.78, 74.64, 80.02, 76.81, 71.77, 76.81, 82.69, 74.82, 82.82,\n",
    "       61.9 , 79.11, 75.44, 73.5 , 75.46, 65.06, 73.9 , 76.79, 82.39,\n",
    "       72.41, 70.96, 72.49, 79.58, 76.64, 72.35, 77.57, 75.49, 79.84,\n",
    "       71.49, 73.36, 73.04, 67.68, 76.48, 76.31, 75.03, 73.83, 67.92,\n",
    "       72.9 , 73.29, 70.99, 74.19]"
   ],
   "metadata": {
    "id": "SngJjNBJTgBp",
    "ExecuteTime": {
     "end_time": "2024-12-28T22:19:30.711311Z",
     "start_time": "2024-12-28T22:19:30.690333Z"
    }
   },
   "outputs": [],
   "execution_count": 12
  },
  {
   "metadata": {
    "ExecuteTime": {
     "end_time": "2024-12-28T22:19:34.827310Z",
     "start_time": "2024-12-28T22:19:34.818057Z"
    }
   },
   "cell_type": "code",
   "source": [
    "# Let's use the Z-test to find the statistical difference\n",
    "z_stat, p_value = ztest(group_a_scores, group_b_scores, alternative='larger')\n",
    "\n",
    "print(f\"Z-Score: {z_stat:.4f}\")\n",
    "print(f\"P-value: {p_value:.4f}\")\n",
    "\n",
    "if p_value < 0.05:\n",
    "    print(\"\\nWe reject the null hypothesis. The groups are significantly different. The new course is better\")\n",
    "else:\n",
    "    print(\"\\nWe fail to reject the null hypothesis. There is no significant difference between the groups.  We cannot draw conclusions about the quality of the course.\")"
   ],
   "outputs": [
    {
     "name": "stdout",
     "output_type": "stream",
     "text": [
      "Z-Score: 2.3574\n",
      "P-value: 0.0092\n",
      "\n",
      "We reject the null hypothesis. The groups are significantly different. The new course is better\n"
     ]
    }
   ],
   "execution_count": 13
  },
  {
   "metadata": {},
   "cell_type": "markdown",
   "source": [
    "**Завдання 2.2.**\n",
    "\n",
    "\n",
    "**Мета**: Побачити, як впливає розмір вибірок на результат тесту.\n",
    "\n",
    "**Завдання**: Уявіть, що з групи А ми маємо тільки перші 5 записів, а з групи В - усі. Таке могло статись, якщо ми вже маємо результати тестів учнів за попередньою програмою, а тести за новою програмою здали наразі лише 5 учнів і ми вирішили не чекати довше.\n",
    "Виберіть перші 5 записів для групи А і проведіть t-test (для цього використовуємо наступний [метод](https://docs.scipy.org/doc/scipy/reference/generated/scipy.stats.ttest_ind.html)). Виведіть значення p-value. Зробіть висновок, який результат ви бачите щодо стат. значущості на рівні 0.05 для цього експерименту?\n",
    "\n",
    "Тут проводимо t-test оскільки одна з вибірок - дуже мала."
   ]
  },
  {
   "cell_type": "code",
   "source": "from scipy.stats import ttest_ind",
   "metadata": {
    "id": "D9znE6liYQmP",
    "ExecuteTime": {
     "end_time": "2024-12-28T22:21:11.242921Z",
     "start_time": "2024-12-28T22:21:11.237813Z"
    }
   },
   "outputs": [],
   "execution_count": 14
  },
  {
   "metadata": {
    "ExecuteTime": {
     "end_time": "2024-12-28T22:22:33.589128Z",
     "start_time": "2024-12-28T22:22:33.580350Z"
    }
   },
   "cell_type": "code",
   "source": [
    "# Let's declare a list of the first 5 students and use ttest_ind to find the statistical difference\n",
    "group_a_scores_first_5 = group_a_scores[:5]\n",
    "_, p_value = ttest_ind(group_a_scores_first_5, group_b_scores, equal_var=False)\n",
    "\n",
    "print(f\"P-value: {p_value:.4f}\")\n",
    "\n",
    "if p_value < 0.05:\n",
    "    print(\"\\nWe reject the null hypothesis. The groups are significantly different. The new course is better\")\n",
    "else:\n",
    "    print(\"\\nWe fail to reject the null hypothesis. There is no significant difference between the groups.  We cannot draw conclusions about the quality of the course.\")"
   ],
   "outputs": [
    {
     "name": "stdout",
     "output_type": "stream",
     "text": [
      "P-value: 0.3011\n",
      "\n",
      "We fail to reject the null hypothesis. There is no significant difference between the groups.  We cannot draw conclusions about the quality of the course.\n"
     ]
    }
   ],
   "execution_count": 16
  },
  {
   "metadata": {
    "ExecuteTime": {
     "end_time": "2024-12-25T18:57:12.628666Z",
     "start_time": "2024-12-25T18:57:12.263981Z"
    }
   },
   "cell_type": "code",
   "source": [
    "# As a bonus, let's investigate the relationship between the p-value and subset sizes for group A and the whole group B. We will visualize that\n",
    "subset_sizes = range(1, 31)\n",
    "p_values = []\n",
    "\n",
    "for i in subset_sizes:\n",
    "    np.random.seed() #random subsets each time\n",
    "    subset_a = np.random.choice(group_a_scores, i, replace=False)\n",
    "    _, p_value = ttest_ind(subset_a, group_b_scores, equal_var=False)\n",
    "    p_values.append(p_value)\n",
    "\n",
    "plt.figure(figsize=(10, 6))\n",
    "plt.plot(subset_sizes, p_values, marker='o', linestyle='-', label='P-value')\n",
    "plt.axhline(y=0.05, color='r', linestyle='--', label='Significance level (0.05)')\n",
    "plt.title('P-Value vs Subset Size')\n",
    "plt.xlabel('Subset Size')\n",
    "plt.ylabel('P-Value')\n",
    "plt.legend()\n",
    "plt.grid(True)\n",
    "plt.show()"
   ],
   "outputs": [
    {
     "data": {
      "text/plain": [
       "<Figure size 1000x600 with 1 Axes>"
      ],
      "image/png": "[encoded data removed]"
     },
     "metadata": {},
     "output_type": "display_data"
    }
   ],
   "execution_count": 56
  },
  {
   "metadata": {},
   "cell_type": "markdown",
   "source": [
    "### So,  Subset Size Matters:\n",
    "- The p-values fluctuate significantly for smaller subset sizes (1–10).\n",
    "- The subset size increases (10–30), the p-values tend to stabilize and drop below the significance threshold (0.05).\n"
   ]
  },
  {
   "metadata": {},
   "cell_type": "markdown",
   "source": [
    "\n",
    "### Завдання 3\\*: Z-тест для двох **пов'язаних** вибірок\n",
    "\n",
    "**Мета**: Перевірити, чи вплинув тренінг на продуктивність працівників, коли всі співробітники проходили тренінг.\n",
    "\n",
    "**Припущення**: Наші працівники проходять однаковий тренінг, і ми хочемо з'ясувати, чи покращилися їхні показники після тренінгу на рівні значущості 0.05. Виконайте Z-тест з Python, виведіть p-value і зробіть заключення, чи поліпшились показники працівників на рівні значущості 0.05?\n",
    "\n",
    "Зверніть увагу, ці вибірки повʼязані між собою, значить не буде коректно виконати z-test між ними, натомість, ми можемо порівняти, чи різниця в результатах (продуктивності співробітників) є стат значущою."
   ]
  },
  {
   "cell_type": "code",
   "source": [
    "# Let's declare the scores for the group before and after training\n",
    "before_training = [57.82, 37.63, 36.8 , 55.22, 52.97, 52.5 , 53.46, 43.2 , 52.32,\n",
    "       52.93, 42.86, 68.66, 54.74, 38.09, 56.57, 40.25, 57.87, 61.59,\n",
    "       41.79, 59.63, 54.13, 58.22, 68.97, 47.55, 42.46, 41.1 , 41.84,\n",
    "       49.23, 53.41, 52.77]\n",
    "\n",
    "after_training = [62.47, 40.66, 42.7 , 57.69, 61.41, 56.76, 54.75, 44.06, 56.29,\n",
    "       55.48, 47.28, 72.6 , 57.59, 39.39, 56.54, 42.36, 62.58, 65.01,\n",
    "       42.3 , 62.98, 57.9 , 59.45, 72.28, 50.66, 43.18, 44.82, 45.96,\n",
    "       54.4 , 58.52, 53.01]"
   ],
   "metadata": {
    "id": "uxrjagJFW1GC",
    "ExecuteTime": {
     "end_time": "2024-12-28T21:54:09.977242Z",
     "start_time": "2024-12-28T21:54:09.974639Z"
    }
   },
   "outputs": [],
   "execution_count": 5
  },
  {
   "metadata": {
    "ExecuteTime": {
     "end_time": "2024-12-28T21:54:11.666987Z",
     "start_time": "2024-12-28T21:54:11.664208Z"
    }
   },
   "cell_type": "code",
   "source": [
    "# Calculating the difference values for each person using numpy\n",
    "diff = np.array(after_training) - np.array(before_training)"
   ],
   "outputs": [],
   "execution_count": 7
  },
  {
   "metadata": {
    "ExecuteTime": {
     "end_time": "2024-12-28T21:54:12.292197Z",
     "start_time": "2024-12-28T21:54:12.287726Z"
    }
   },
   "cell_type": "code",
   "source": "diff",
   "outputs": [
    {
     "data": {
      "text/plain": [
       "array([ 4.65,  3.03,  5.9 ,  2.47,  8.44,  4.26,  1.29,  0.86,  3.97,\n",
       "        2.55,  4.42,  3.94,  2.85,  1.3 , -0.03,  2.11,  4.71,  3.42,\n",
       "        0.51,  3.35,  3.77,  1.23,  3.31,  3.11,  0.72,  3.72,  4.12,\n",
       "        5.17,  5.11,  0.24])"
      ]
     },
     "execution_count": 8,
     "metadata": {},
     "output_type": "execute_result"
    }
   ],
   "execution_count": 8
  },
  {
   "metadata": {
    "ExecuteTime": {
     "end_time": "2024-12-28T21:54:13.346269Z",
     "start_time": "2024-12-28T21:54:13.343735Z"
    }
   },
   "cell_type": "code",
   "source": [
    "# Stating our expectation about the difference\n",
    "expected_diff = 0"
   ],
   "outputs": [],
   "execution_count": 9
  },
  {
   "metadata": {
    "ExecuteTime": {
     "end_time": "2024-12-28T22:36:14.841804Z",
     "start_time": "2024-12-28T22:36:14.822898Z"
    }
   },
   "cell_type": "code",
   "source": [
    "# Let's use the one-sample Z-test to find the statistical difference in productivity before and after\n",
    "z_stat, p_value = ztest(diff, value=expected_diff, alternative='larger')\n",
    "print(f\"Z-Score: {z_stat:.4f}\")\n",
    "print(f\"P-value: {p_value:.4f}\")\n",
    "\n",
    "if p_value < 0.05:\n",
    "    print(\"\\nWe reject the null hypothesis. Workers are significantly more productive after training.\")\n",
    "else:\n",
    "    print(\"\\nWe fail to reject the null hypothesis. There is not enough evidence to conclude that productivity has increased.\")"
   ],
   "outputs": [
    {
     "name": "stdout",
     "output_type": "stream",
     "text": [
      "Z-Score: 9.1389\n",
      "P-value: 0.0000\n",
      "\n",
      "We reject the null hypothesis. Workers are much productive after training\n"
     ]
    }
   ],
   "execution_count": 18
  }
 ]
}
