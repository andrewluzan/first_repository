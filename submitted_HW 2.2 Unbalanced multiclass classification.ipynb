{
 "cells": [
  {
   "cell_type": "markdown",
   "metadata": {
    "id": "VUPArbcFJKzJ"
   },
   "source": [
    "У цьому ДЗ ми потренуємось розв'язувати задачу багатокласової класифікації за допомогою логістичної регресії з використанням стратегій One-vs-Rest та One-vs-One, оцінити якість моделей та порівняти стратегії."
   ]
  },
  {
   "cell_type": "markdown",
   "metadata": {
    "id": "7f4tzX6YomVv"
   },
   "source": [
    "### Опис задачі і даних\n",
    "\n",
    "**Контекст**\n",
    "\n",
    "В цьому ДЗ ми працюємо з даними про сегментацію клієнтів.\n",
    "\n",
    "Сегментація клієнтів – це практика поділу бази клієнтів на групи індивідів, які схожі між собою за певними критеріями, що мають значення для маркетингу, такими як вік, стать, інтереси та звички у витратах.\n",
    "\n",
    "Компанії, які використовують сегментацію клієнтів, виходять з того, що кожен клієнт є унікальним і що їхні маркетингові зусилля будуть більш ефективними, якщо вони орієнтуватимуться на конкретні, менші групи зі зверненнями, які ці споживачі вважатимуть доречними та які спонукатимуть їх до купівлі. Компанії також сподіваються отримати глибше розуміння уподобань та потреб своїх клієнтів з метою виявлення того, що кожен сегмент цінує найбільше, щоб точніше адаптувати маркетингові матеріали до цього сегменту.\n",
    "\n",
    "**Зміст**.\n",
    "\n",
    "Автомобільна компанія планує вийти на нові ринки зі своїми існуючими продуктами (P1, P2, P3, P4 і P5). Після інтенсивного маркетингового дослідження вони дійшли висновку, що поведінка нового ринку схожа на їхній існуючий ринок.\n",
    "\n",
    "На своєму існуючому ринку команда з продажу класифікувала всіх клієнтів на 4 сегменти (A, B, C, D). Потім вони здійснювали сегментовані звернення та комунікацію з різними сегментами клієнтів. Ця стратегія працювала для них надзвичайно добре. Вони планують використати ту саму стратегію на нових ринках і визначили 2627 нових потенційних клієнтів.\n",
    "\n",
    "Ви маєте допомогти менеджеру передбачити правильну групу для нових клієнтів.\n",
    "\n",
    "В цьому ДЗ використовуємо дані `customer_segmentation_train.csv`[скачати дані](https://drive.google.com/file/d/1VU1y2EwaHkVfr5RZ1U4MPWjeflAusK3w/view?usp=sharing). Це `train.csv`з цього [змагання](https://www.kaggle.com/datasets/abisheksudarshan/customer-segmentation/data?select=train.csv)"
   ]
  },
  {
   "cell_type": "markdown",
   "metadata": {
    "id": "NZFXPKx1JX-3"
   },
   "source": [
    "**Завдання 1.** Завантажте та підготуйте датасет до аналізу. Виконайте обробку пропущених значень та необхідне кодування категоріальних ознак. Розбийте на тренувальну і тестувальну вибірку, де в тесті 20%. Памʼятаємо, що весь препроцесинг ліпше все ж тренувати на тренувальній вибірці і на тестувальній лише використовувати вже натреновані трансформери.\n",
    "Але в даному випадку оскільки значень в категоріях небагато, можна зробити обробку і на оригінальних даних, а потім розбити - це простіше. Можна також реалізувати процесинг і тренування моделі з пайплайнами. Обирайте як вам зручніше."
   ]
  },
  {
   "cell_type": "code",
   "execution_count": 1,
   "metadata": {
    "id": "I-mwGqPS5GAT"
   },
   "outputs": [],
   "source": [
    "import pandas as pd\n",
    "import numpy as np\n",
    "import matplotlib.pyplot as plt\n",
    "from sklearn.pipeline import Pipeline\n",
    "from sklearn.model_selection import train_test_split\n",
    "from sklearn.linear_model import LogisticRegression\n",
    "from sklearn.metrics import classification_report, precision_score, recall_score\n",
    "from sklearn.multiclass import OneVsRestClassifier, OneVsOneClassifier\n",
    "from sklearn.preprocessing import MinMaxScaler, OneHotEncoder\n",
    "from sklearn.compose import ColumnTransformer\n",
    "\n",
    "import warnings\n",
    "warnings.filterwarnings(\"ignore\")"
   ]
  },
  {
   "cell_type": "code",
   "execution_count": 2,
   "metadata": {},
   "outputs": [],
   "source": [
    "raw_df = pd.read_csv('customer_segmentation_train.csv')"
   ]
  },
  {
   "cell_type": "code",
   "execution_count": 3,
   "metadata": {},
   "outputs": [],
   "source": [
    "train_df, val_df = train_test_split(raw_df, test_size=0.2, random_state=42, stratify=raw_df['Segmentation'])"
   ]
  },
  {
   "cell_type": "code",
   "execution_count": 4,
   "metadata": {},
   "outputs": [],
   "source": [
    "train_df['Ever_Married'] = raw_df['Ever_Married'].fillna('Yes')\n",
    "train_df['Graduated'] = raw_df['Graduated'].fillna('Yes')\n",
    "train_df['Profession'] = raw_df['Profession'].fillna('Unknown')\n",
    "train_df['Family_Size'] = raw_df['Family_Size'].fillna('2')\n",
    "train_df['Var_1'] = raw_df['Var_1'].fillna('Cat_6')\n",
    "train_df['Work_Experience'] = raw_df['Work_Experience'].fillna(1)"
   ]
  },
  {
   "cell_type": "code",
   "execution_count": 5,
   "metadata": {},
   "outputs": [],
   "source": [
    "target_col_name = 'Segmentation'\n",
    "y = train_df[target_col_name]\n",
    "X = train_df.drop(columns=target_col_name)\n",
    "\n",
    "y_test = train_df[target_col_name]\n",
    "X_test = train_df.drop(columns=target_col_name)\n",
    "\n",
    "# Identifying numeric and categorical columns\n",
    "numeric_cols = X.select_dtypes(include=np.number).columns.tolist()\n",
    "categorical_cols = X.select_dtypes(include='object').columns.tolist()"
   ]
  },
  {
   "cell_type": "code",
   "execution_count": 6,
   "metadata": {},
   "outputs": [],
   "source": [
    "from sklearn.preprocessing import OneHotEncoder\n",
    "\n",
    "\n",
    "encoder = OneHotEncoder(drop='if_binary',sparse_output=False, handle_unknown='ignore')\n",
    "encoder.fit(X[categorical_cols].astype(str))\n",
    "\n",
    "encoded_cols = list(encoder.get_feature_names_out(categorical_cols))\n",
    "X[encoded_cols] = encoder.transform(X[categorical_cols].astype(str))\n",
    "X_test[encoded_cols] = encoder.transform(X_test[categorical_cols].astype(str))"
   ]
  },
  {
   "cell_type": "code",
   "execution_count": 7,
   "metadata": {},
   "outputs": [],
   "source": [
    "X_train = X[numeric_cols+encoded_cols]\n",
    "X_val = X_test[numeric_cols+encoded_cols]"
   ]
  },
  {
   "cell_type": "markdown",
   "metadata": {
    "id": "fhJzCBA7P0f8"
   },
   "source": [
    "**Завдання 2. Важливо уважно прочитати все формулювання цього завдання до кінця!**\n",
    "\n",
    "Застосуйте методи ресемплингу даних SMOTE та SMOTE-Tomek з бібліотеки imbalanced-learn до тренувальної вибірки. В результаті у Вас має вийти 2 тренувальних набори: з апсемплингом зі SMOTE, та з ресамплингом з SMOTE-Tomek.\n",
    "\n",
    "Увага! В нашому наборі даних є як категоріальні дані, так і звичайні числові. Базовий SMOTE не буде правильно працювати з категоріальними даними, але є його модифікація, яка буде. Тому в цього завдання є 2 виконання\n",
    "\n",
    "  1. Застосувати SMOTE базовий лише на НЕкатегоріальних ознаках.\n",
    "\n",
    "  2. Переглянути інформацію про метод [SMOTENC](https://imbalanced-learn.org/dev/references/generated/imblearn.over_sampling.SMOTENC.html#imblearn.over_sampling.SMOTENC) і використати цей метод в цій задачі. За цей спосіб буде +3 бали за це завдання і він рекомендований для виконання.\n",
    "\n",
    "  **Підказка**: аби скористатись SMOTENC треба створити змінну, яка містить індекси ознак, які є категоріальними (їх номер серед колонок) і передати при ініціації екземпляра класу `SMOTENC(..., categorical_features=cat_feature_indeces)`.\n",
    "  \n",
    "  Ви також можете розглянути варіант використання варіації SMOTE, який працює ЛИШЕ з категоріальними ознаками [SMOTEN](https://imbalanced-learn.org/dev/references/generated/imblearn.over_sampling.SMOTEN.html)"
   ]
  },
  {
   "cell_type": "code",
   "execution_count": 8,
   "metadata": {
    "id": "6NFUkQ_15HNX"
   },
   "outputs": [],
   "source": [
    "from imblearn.over_sampling import SMOTE\n",
    "\n",
    "# Perform random sampling\n",
    "smote = SMOTE(random_state=0)\n",
    "X_train_smote, y_train_smote = smote.fit_resample(X_train.select_dtypes(include=np.number), y)"
   ]
  },
  {
   "cell_type": "code",
   "execution_count": 9,
   "metadata": {},
   "outputs": [],
   "source": [
    "from imblearn.over_sampling import SMOTENC\n",
    "\n",
    "categorical_columns = X.select_dtypes(include=['object', 'category']).columns\n",
    "# Get indices of categorical columns\n",
    "cat_feature_indices = [X.columns.get_loc(col) for col in categorical_columns]\n",
    "X = X.apply(lambda col: col.astype(str) if col.dtype == 'object' else col)\n",
    "\n",
    "sm = SMOTENC(random_state=0, categorical_features=cat_feature_indices)\n",
    "X_train_smotenc, y_train_smotenc = sm.fit_resample(X, y)"
   ]
  },
  {
   "cell_type": "code",
   "execution_count": 10,
   "metadata": {},
   "outputs": [],
   "source": [
    "from imblearn.combine import SMOTETomek\n",
    "\n",
    "smotetomek = SMOTETomek(random_state=0)\n",
    "X_train_smotetomek, y_train_smotetomek = smotetomek.fit_resample(X_train.select_dtypes(include=np.number), y)"
   ]
  },
  {
   "cell_type": "markdown",
   "metadata": {
    "id": "ja4w_GgmT4D0"
   },
   "source": [
    "**Завдання 3**.\n",
    "  1. Навчіть модель логістичної регресії з використанням стратегії One-vs-Rest з логістичною регресією на оригінальних даних, збалансованих з SMOTE, збалансованих з Smote-Tomek.  \n",
    "  2. Виміряйте якість кожної з натренованих моделей використовуючи `sklearn.metrics.classification_report`.\n",
    "  3. Напишіть, яку метрику ви обрали для порівняння моделей.\n",
    "  4. Яка модель найкраща?\n",
    "  5. Якщо немає суттєвої різниці між моделями - напишіть свою гіпотезу, чому?"
   ]
  },
  {
   "cell_type": "code",
   "execution_count": 11,
   "metadata": {
    "id": "nxWVeRan5JBh"
   },
   "outputs": [
    {
     "name": "stdout",
     "output_type": "stream",
     "text": [
      "              precision    recall  f1-score   support\n",
      "\n",
      "           A       0.00      0.00      0.00      1578\n",
      "           B       0.00      0.00      0.00      1486\n",
      "           C       0.24      1.00      0.39      1576\n",
      "           D       0.00      0.00      0.00      1814\n",
      "\n",
      "    accuracy                           0.24      6454\n",
      "   macro avg       0.06      0.25      0.10      6454\n",
      "weighted avg       0.06      0.24      0.10      6454\n",
      "\n"
     ]
    }
   ],
   "source": [
    "from sklearn.metrics import classification_report\n",
    "from sklearn.linear_model import LogisticRegression\n",
    "from sklearn.metrics import classification_report, precision_score, recall_score\n",
    "from sklearn.multiclass import OneVsRestClassifier, OneVsOneClassifier\n",
    "\n",
    "model_smote = LogisticRegression(solver='liblinear')\n",
    "ovr_model_smote = OneVsRestClassifier(model_smote)\n",
    "ovr_model_smote.fit(X_train_smote, y_train_smote)\n",
    "ovr_predictions_smote = ovr_model_smote.predict(X_test.select_dtypes(include=np.number))\n",
    "\n",
    "print(classification_report(y_test, ovr_predictions_smote))"
   ]
  },
  {
   "cell_type": "code",
   "execution_count": 12,
   "metadata": {},
   "outputs": [
    {
     "name": "stdout",
     "output_type": "stream",
     "text": [
      "              precision    recall  f1-score   support\n",
      "\n",
      "           A       0.00      0.00      0.00      1578\n",
      "           B       0.00      0.00      0.00      1486\n",
      "           C       0.24      1.00      0.39      1576\n",
      "           D       0.00      0.00      0.00      1814\n",
      "\n",
      "    accuracy                           0.24      6454\n",
      "   macro avg       0.06      0.25      0.10      6454\n",
      "weighted avg       0.06      0.24      0.10      6454\n",
      "\n"
     ]
    }
   ],
   "source": [
    "model_smotenc = LogisticRegression(solver='liblinear')\n",
    "ovr_model_smotenc = OneVsRestClassifier(model_smotenc)\n",
    "ovr_model_smotenc.fit(X_train_smotenc[numeric_cols+encoded_cols], y_train_smotenc)\n",
    "ovr_predictions_smotenc = ovr_model_smotenc.predict(X_test[numeric_cols+encoded_cols])\n",
    "\n",
    "print(classification_report(y_test, ovr_predictions_smotenc))"
   ]
  },
  {
   "cell_type": "code",
   "execution_count": 13,
   "metadata": {
    "scrolled": true
   },
   "outputs": [
    {
     "name": "stdout",
     "output_type": "stream",
     "text": [
      "              precision    recall  f1-score   support\n",
      "\n",
      "           A       0.00      0.00      0.00      1578\n",
      "           B       0.00      0.00      0.00      1486\n",
      "           C       0.34      0.72      0.46      1576\n",
      "           D       0.45      0.79      0.58      1814\n",
      "\n",
      "    accuracy                           0.40      6454\n",
      "   macro avg       0.20      0.38      0.26      6454\n",
      "weighted avg       0.21      0.40      0.28      6454\n",
      "\n"
     ]
    }
   ],
   "source": [
    "model_smotetomek = LogisticRegression(solver='liblinear')\n",
    "ovr_model_smotetomek = OneVsRestClassifier(model_smotetomek)\n",
    "ovr_model_smotetomek.fit(X_train_smotetomek[numeric_cols+encoded_cols], y_train_smotetomek)\n",
    "ovr_predictions_smotetomek = ovr_model_smotetomek.predict(X_test[numeric_cols+encoded_cols])\n",
    "\n",
    "print(classification_report(y_test, ovr_predictions_smotetomek))"
   ]
  },
  {
   "cell_type": "markdown",
   "metadata": {},
   "source": [
    "##Conclusion\n",
    "\n",
    "The SMOTE-Tomek balancing method is the best among the three because it significantly improves the recall and F1-score for classes C and D while achieving higher overall accuracy (0.40 vs. 0.24) compared to SMOTE and SMOTENC. The other two methods fail to improve minority class detection, resulting in nearly zero predictive performance for classes A and B."
   ]
  }
 ],
 "metadata": {
  "colab": {
   "provenance": [
    {
     "file_id": "102QTrQmOuzlHneyojj2gM-8U9dJN_hCH",
     "timestamp": 1737290641653
    }
   ]
  },
  "kernelspec": {
   "display_name": "Python 3 (ipykernel)",
   "language": "python",
   "name": "python3"
  },
  "language_info": {
   "codemirror_mode": {
    "name": "ipython",
    "version": 3
   },
   "file_extension": ".py",
   "mimetype": "text/x-python",
   "name": "python",
   "nbconvert_exporter": "python",
   "pygments_lexer": "ipython3",
   "version": "3.11.6"
  }
 },
 "nbformat": 4,
 "nbformat_minor": 4
}
